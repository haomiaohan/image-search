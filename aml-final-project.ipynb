{
 "cells": [
  {
   "cell_type": "markdown",
   "metadata": {},
   "source": [
    "# CS5785 final"
   ]
  },
  {
   "cell_type": "markdown",
   "metadata": {},
   "source": [
    "### 1. Setting up initial development environment\n"
   ]
  },
  {
   "cell_type": "code",
   "execution_count": null,
   "metadata": {
    "scrolled": true
   },
   "outputs": [],
   "source": [
    "#installing gensim and spacy if they are not already installed\n",
    "\n",
    "#!pip install gensim\n",
    "#!pip install spacy"
   ]
  },
  {
   "cell_type": "code",
   "execution_count": null,
   "metadata": {},
   "outputs": [],
   "source": [
    "#downloading a larger model for spacy (required for converting text into vectors)\n",
    "\n",
    "#!python -m spacy download en_core_web_lg"
   ]
  },
  {
   "cell_type": "code",
   "execution_count": null,
   "metadata": {},
   "outputs": [],
   "source": [
    "#downloading required data for gensim\n",
    "\n",
    "#!wget -c \"https://s3.amazonaws.com/dl4j-distribution/GoogleNews-vectors-negative300.bin.gz\""
   ]
  },
  {
   "cell_type": "code",
   "execution_count": 1,
   "metadata": {},
   "outputs": [],
   "source": [
    "import os\n",
    "import csv\n",
    "import random\n",
    "import gensim\n",
    "import numpy as np\n",
    "import string\n",
    "\n",
    "num_train = 8000\n",
    "num_dev = 2000\n",
    "num_test = 2000\n",
    "split_idx = list(range(num_train + num_dev))\n",
    "random.shuffle(split_idx)\n",
    "\n",
    "#loading word2vec model from gensim - NOT used in our models, used in baseline only\n",
    "#word2vec = gensim.models.KeyedVectors.load_word2vec_format(\"GoogleNews-vectors-negative300.bin.gz\", binary=True)\n",
    "#print(\"Loaded gensim word vectors successfully!\")"
   ]
  },
  {
   "cell_type": "code",
   "execution_count": 2,
   "metadata": {},
   "outputs": [],
   "source": [
    "import spacy\n",
    "\n",
    "#loading word2vec model from spacy - used in our models\n",
    "nlp = spacy.load(\"en_core_web_lg\")\n",
    "print(\"Loaded spacy word vectors successfully!\")"
   ]
  },
  {
   "cell_type": "markdown",
   "metadata": {},
   "source": [
    "\n",
    "### 2. Parsing descriptions, tags and ResNet feature vectors\n"
   ]
  },
  {
   "cell_type": "code",
   "execution_count": 3,
   "metadata": {},
   "outputs": [],
   "source": [
    "#list of stop words used for text preprocessing\n",
    "\n",
    "stop_words = ['a','the','an','and',\\\n",
    "                           'as','at','for','from','in','into','of','on',\\\n",
    "                           'onto','to',\\\n",
    "                           'that',\\\n",
    "                           'have','had','has','having','be',\\\n",
    "                           'is','am','are','was','were','being','been',\\\n",
    "                           'your' 'those', 'this', 'these', \\\n",
    "                           'their', 'the', 'that', 'our', 'my',\\\n",
    "                           'its', 'his' 'her'\\\n",
    "                           'an', 'a', 'he',\\\n",
    "                           'him', 'his', 'her', 'she', 'it', 'they', 'them', 'its', 'their','theirs',\\\n",
    "                           'you','your','yours','me','my','mine','I','we','and/or']"
   ]
  },
  {
   "cell_type": "code",
   "execution_count": 68,
   "metadata": {
    "scrolled": true
   },
   "outputs": [
    {
     "name": "stdout",
     "output_type": "stream",
     "text": [
      "Parsed file\n",
      "Built all x_tags matrices!\n",
      "x_train_tags shape: (8000, 300)\n",
      "x_dev_tags shape: (2000, 300)\n",
      "x_test_tags shape: (2000, 300)\n"
     ]
    }
   ],
   "source": [
    "#reading tags from file and converting tags to vectors\n",
    "\n",
    "def parse_tags(data_dir, num_doc):\n",
    "    docs = []\n",
    "    for i in range(num_doc):\n",
    "        path = os.path.join(data_dir, \"%d.txt\" % i)\n",
    "        with open(path) as f:\n",
    "            docs.append(f.read())\n",
    "    return docs\n",
    "\n",
    "def tags_to_vec(tag):\n",
    "    temp = tag.split('\\n')\n",
    "    tags = []\n",
    "    for item in temp:\n",
    "        if len(item) > 0:\n",
    "            item_tags = item.split(':')\n",
    "            cat = item_tags[0]        ##category\n",
    "            sub_cat = item_tags[1]    ##sub-category\n",
    "            tags.append(sub_cat)      ##we only consider sub-category when converting tags to vectors\n",
    "    \n",
    "    tags_str = ' '.join(tags)\n",
    "    processed_tags = nlp(tags_str)    ##using spacy to process text\n",
    "            \n",
    "    return processed_tags.vector\n",
    "\n",
    "train_dev_tags = parse_tags(\"tags_train\", num_doc=(num_train+num_dev))\n",
    "test_tags = parse_tags(\"tags_test\", num_doc=num_test)\n",
    "print('Parsed file')\n",
    "\n",
    "x_train_tags = np.array([tags_to_vec(train_dev_tags[i]) for i in split_idx[:num_train]])\n",
    "x_dev_tags = np.array([tags_to_vec(train_dev_tags[i]) for i in split_idx[num_train:]])\n",
    "x_test_tags = np.array([tags_to_vec(d) for d in test_tags])\n",
    "\n",
    "#optionally, save matrices to .npy files and store them on local machine\n",
    "#np.save('xtraintags', x_train_tags)\n",
    "#np.save('xdevtags', x_dev_tags)\n",
    "#np.save('xtesttags', x_test_tags)\n",
    "\n",
    "print(\"Built all x_tags matrices!\")   \n",
    "print(\"x_train_tags shape:\", x_train_tags.shape)\n",
    "print(\"x_dev_tags shape:\", x_dev_tags.shape)\n",
    "print(\"x_test_tags shape:\", x_test_tags.shape)"
   ]
  },
  {
   "cell_type": "code",
   "execution_count": 33,
   "metadata": {},
   "outputs": [
    {
     "name": "stdout",
     "output_type": "stream",
     "text": [
      "Built all x mabtrices!\n",
      "x_train shape: (8000, 300)\n",
      "x_dev shape: (2000, 300)\n",
      "x_test shape: (2000, 300)\n"
     ]
    }
   ],
   "source": [
    "#reading descriptions and converting descriptions to vectors\n",
    "\n",
    "def parse_descriptions(data_dir, num_doc):\n",
    "    docs = []\n",
    "    for i in range(num_doc):\n",
    "        path = os.path.join(data_dir, \"%d.txt\" % i)\n",
    "        with open(path) as f:\n",
    "            docs.append(f.read())\n",
    "    return docs\n",
    "\n",
    "#using average of word vectors to represent paragraphs\n",
    "#DEPRECATED in favor of the approach below (sent_to_vec)\n",
    "def doc_to_vec(sentence, word2vec):\n",
    "    word_vecs = []\n",
    "    for w in sentence.split():\n",
    "        w = w.lower()\n",
    "        if w in word2vec.vocab and w not in stop_words:\n",
    "            word_vecs.append(word2vec.get_vector(w))\n",
    "    word_vecs = [word2vec.get_vector(w.lower()) for w in sentence.split() if (w in word2vec.vocab) and (w not in stop_words)]\n",
    "    return np.stack(word_vecs).mean(0)\n",
    "\n",
    "#converting the entire paragraph directly into vectors\n",
    "def sent_to_vec(sentence, preprocess=False):\n",
    "    sent = None\n",
    "    #if specified, preprocess the text by removing punctuations, converting \n",
    "    #all the words to lower case, and removing stop words\n",
    "    if preprocess:\n",
    "        processed = []\n",
    "        sentence = sentence.translate(str.maketrans('', '', string.punctuation))\n",
    "        temp = sentence.split()\n",
    "        for word in temp:\n",
    "            if word not in stop_words:\n",
    "                processed.append(word.lower())\n",
    "        processed_str = ' '.join(processed)\n",
    "        sent = nlp(processed_str)\n",
    "    else:\n",
    "        sent = nlp(sentence)\n",
    "        \n",
    "    return sent.vector\n",
    "\n",
    "train_dev_desc = parse_descriptions(\"descriptions_train\", num_doc=(num_train+num_dev))\n",
    "test_desc = parse_descriptions(\"descriptions_test\", num_doc=num_test)\n",
    "print('Parsed file')\n",
    "\n",
    "x_train = np.array([sent_to_vec(train_dev_desc[i], preprocess=True) for i in split_idx[:num_train]])\n",
    "x_dev = np.array([sent_to_vec(train_dev_desc[i], preprocess=True) for i in split_idx[num_train:]])\n",
    "x_test = np.array([sent_to_vec(d, preprocess=True) for d in test_desc])\n",
    "\n",
    "#optionally, save matrices to .npy files and store them on local machine\n",
    "#np.save('xtrain', x_train)\n",
    "#np.save('xdev', x_dev)\n",
    "#np.save('xtest', x_test)\n",
    "\n",
    "print(\"Built all x mabtrices!\")\n",
    "print(\"x_train shape:\", x_train.shape)\n",
    "print(\"x_dev shape:\", x_dev.shape)\n",
    "print(\"x_test shape:\", x_test.shape)\n"
   ]
  },
  {
   "cell_type": "code",
   "execution_count": 34,
   "metadata": {
    "scrolled": true
   },
   "outputs": [
    {
     "name": "stdout",
     "output_type": "stream",
     "text": [
      "Built all y matrices!\n",
      "y_train shape: (8000, 1000)\n",
      "y_dev shape: (2000, 1000)\n",
      "y_test shape: (2000, 1000)\n"
     ]
    }
   ],
   "source": [
    "#reading ResNet image features from file\n",
    "\n",
    "def parse_features(features_path):\n",
    "    vec_map = {}\n",
    "    with open(features_path) as f:\n",
    "        for row in csv.reader(f):\n",
    "            img_id = int(row[0].split(\"/\")[1].split(\".\")[0])\n",
    "            vec_map[img_id] = np.array([float(x) for x in row[1:]])\n",
    "    return np.array([v for k, v in sorted(vec_map.items())])\n",
    "\n",
    "#DEPRECATED - random projection to reduce dimensionality\n",
    "#p = np.random.randn(1000, 100)\n",
    "y_train_dev = parse_features(\"features_train/features_resnet1000_train.csv\") #@ p\n",
    "y_train = y_train_dev[split_idx[:num_train]]\n",
    "y_dev = y_train_dev[split_idx[num_train:]]\n",
    "y_test = parse_features(\"features_test/features_resnet1000_test.csv\") #@ p\n",
    "\n",
    "#optionally, save matrices to .npy files and store them on local machine\n",
    "#np.save('ytrainfull', y_train)\n",
    "#np.save('ydevfull', y_dev)\n",
    "#np.save('ytestfull', y_test)\n",
    "\n",
    "print(\"Built all y matrices!\")\n",
    "print(\"y_train shape:\", y_train.shape)\n",
    "print(\"y_dev shape:\", y_dev.shape)\n",
    "print(\"y_test shape:\", y_test.shape)"
   ]
  },
  {
   "cell_type": "markdown",
   "metadata": {},
   "source": [
    "\n",
    "### 3. Model training\n"
   ]
  },
  {
   "cell_type": "code",
   "execution_count": 14,
   "metadata": {},
   "outputs": [],
   "source": [
    "import warnings\n",
    "\n",
    "#suppress warnings\n",
    "#warnings.filterwarnings('ignore')"
   ]
  },
  {
   "cell_type": "code",
   "execution_count": 15,
   "metadata": {},
   "outputs": [],
   "source": [
    "#using cosine similarity (cosine distance) in favor of euclidean distance\n",
    "from sklearn.metrics.pairwise import cosine_similarity"
   ]
  },
  {
   "cell_type": "code",
   "execution_count": null,
   "metadata": {
    "scrolled": true
   },
   "outputs": [],
   "source": [
    "#Method 1 (baseline) & 2 - use description to predict dimensionality reduced ResNet image vectors \n",
    "\n",
    "from sklearn.linear_model import Ridge\n",
    "from sklearn.model_selection import GridSearchCV\n",
    "\n",
    "# train OLS model with regression\n",
    "parameters = {\"alpha\": [0.01, 0.1, 1, 2, 5, 10, 100]}\n",
    "reg = GridSearchCV(Ridge(), param_grid=parameters, cv=10, verbose=10)\n",
    "reg.fit(x_train, y_train)\n",
    "reg_best = reg.best_estimator_\n",
    "\n",
    "print(\"Trained linear regression model!\")\n",
    "print(\"Summary of best model:\")\n",
    "print(reg_best)"
   ]
  },
  {
   "cell_type": "code",
   "execution_count": 29,
   "metadata": {},
   "outputs": [
    {
     "name": "stdout",
     "output_type": "stream",
     "text": [
      "Fitting 10 folds for each of 5 candidates, totalling 50 fits\n",
      "[CV] alpha=0.1 .......................................................\n",
      "[CV] ............... alpha=0.1, score=0.661222493556135, total=   0.1s\n",
      "[CV] alpha=0.1 .......................................................\n"
     ]
    },
    {
     "name": "stderr",
     "output_type": "stream",
     "text": [
      "[Parallel(n_jobs=1)]: Using backend SequentialBackend with 1 concurrent workers.\n",
      "[Parallel(n_jobs=1)]: Done   1 out of   1 | elapsed:    0.2s remaining:    0.0s\n"
     ]
    },
    {
     "name": "stdout",
     "output_type": "stream",
     "text": [
      "[CV] .............. alpha=0.1, score=0.6502817517849822, total=   0.1s\n",
      "[CV] alpha=0.1 .......................................................\n",
      "[CV] .............. alpha=0.1, score=0.6501822813698078, total=   0.1s\n",
      "[CV] alpha=0.1 .......................................................\n",
      "[CV] .............. alpha=0.1, score=0.6399666189487007, total=   0.0s\n",
      "[CV] alpha=0.1 .......................................................\n"
     ]
    },
    {
     "name": "stderr",
     "output_type": "stream",
     "text": [
      "[Parallel(n_jobs=1)]: Done   2 out of   2 | elapsed:    0.3s remaining:    0.0s\n",
      "[Parallel(n_jobs=1)]: Done   3 out of   3 | elapsed:    0.4s remaining:    0.0s\n",
      "[Parallel(n_jobs=1)]: Done   4 out of   4 | elapsed:    0.5s remaining:    0.0s\n"
     ]
    },
    {
     "name": "stdout",
     "output_type": "stream",
     "text": [
      "[CV] .............. alpha=0.1, score=0.6511612841864508, total=   0.1s\n",
      "[CV] alpha=0.1 .......................................................\n",
      "[CV] .............. alpha=0.1, score=0.6399229655619706, total=   0.0s\n",
      "[CV] alpha=0.1 .......................................................\n",
      "[CV] .............. alpha=0.1, score=0.6668569908309135, total=   0.0s\n",
      "[CV] alpha=0.1 .......................................................\n"
     ]
    },
    {
     "name": "stderr",
     "output_type": "stream",
     "text": [
      "[Parallel(n_jobs=1)]: Done   5 out of   5 | elapsed:    0.6s remaining:    0.0s\n",
      "[Parallel(n_jobs=1)]: Done   6 out of   6 | elapsed:    0.7s remaining:    0.0s\n",
      "[Parallel(n_jobs=1)]: Done   7 out of   7 | elapsed:    0.8s remaining:    0.0s\n"
     ]
    },
    {
     "name": "stdout",
     "output_type": "stream",
     "text": [
      "[CV] .............. alpha=0.1, score=0.6475358698093154, total=   0.1s\n",
      "[CV] alpha=0.1 .......................................................\n",
      "[CV] ............... alpha=0.1, score=0.650012015653537, total=   0.0s\n",
      "[CV] alpha=0.1 .......................................................\n",
      "[CV] .............. alpha=0.1, score=0.6648987059921628, total=   0.0s\n",
      "[CV] alpha=0.5 .......................................................\n"
     ]
    },
    {
     "name": "stderr",
     "output_type": "stream",
     "text": [
      "[Parallel(n_jobs=1)]: Done   8 out of   8 | elapsed:    0.9s remaining:    0.0s\n",
      "[Parallel(n_jobs=1)]: Done   9 out of   9 | elapsed:    1.0s remaining:    0.0s\n"
     ]
    },
    {
     "name": "stdout",
     "output_type": "stream",
     "text": [
      "[CV] .............. alpha=0.5, score=0.6614842456660708, total=   0.1s\n",
      "[CV] alpha=0.5 .......................................................\n",
      "[CV] .............. alpha=0.5, score=0.6514415786275852, total=   0.1s\n",
      "[CV] alpha=0.5 .......................................................\n",
      "[CV] .............. alpha=0.5, score=0.6514314230782787, total=   0.0s\n",
      "[CV] alpha=0.5 .......................................................\n",
      "[CV] .............. alpha=0.5, score=0.6416623959694858, total=   0.1s\n",
      "[CV] alpha=0.5 .......................................................\n",
      "[CV] ............... alpha=0.5, score=0.652210858590011, total=   0.0s\n",
      "[CV] alpha=0.5 .......................................................\n",
      "[CV] .............. alpha=0.5, score=0.6414632891253068, total=   0.0s\n",
      "[CV] alpha=0.5 .......................................................\n",
      "[CV] .............. alpha=0.5, score=0.6680617304787189, total=   0.1s\n",
      "[CV] alpha=0.5 .......................................................\n",
      "[CV] .............. alpha=0.5, score=0.6487311151601348, total=   0.0s\n",
      "[CV] alpha=0.5 .......................................................\n",
      "[CV] .............. alpha=0.5, score=0.6507532562827355, total=   0.0s\n",
      "[CV] alpha=0.5 .......................................................\n",
      "[CV] .............. alpha=0.5, score=0.6655715269316387, total=   0.1s\n",
      "[CV] alpha=1 .........................................................\n",
      "[CV] ................ alpha=1, score=0.6601193799518242, total=   0.0s\n",
      "[CV] alpha=1 .........................................................\n",
      "[CV] ................ alpha=1, score=0.6507917300449653, total=   0.0s\n",
      "[CV] alpha=1 .........................................................\n",
      "[CV] ................ alpha=1, score=0.6507512534214328, total=   0.1s\n",
      "[CV] alpha=1 .........................................................\n",
      "[CV] ................ alpha=1, score=0.6414057009433964, total=   0.0s\n",
      "[CV] alpha=1 .........................................................\n",
      "[CV] ................. alpha=1, score=0.651326981164894, total=   0.0s\n",
      "[CV] alpha=1 .........................................................\n",
      "[CV] ................ alpha=1, score=0.6410587012245124, total=   0.1s\n",
      "[CV] alpha=1 .........................................................\n",
      "[CV] ................ alpha=1, score=0.6673903332608224, total=   0.0s\n",
      "[CV] alpha=1 .........................................................\n",
      "[CV] ................ alpha=1, score=0.6479577069291104, total=   0.0s\n",
      "[CV] alpha=1 .........................................................\n",
      "[CV] ................ alpha=1, score=0.6496503719866885, total=   0.1s\n",
      "[CV] alpha=1 .........................................................\n",
      "[CV] ................ alpha=1, score=0.6644959297146403, total=   0.0s\n",
      "[CV] alpha=1.5 .......................................................\n",
      "[CV] ................ alpha=1.5, score=0.65827961967659, total=   0.0s\n",
      "[CV] alpha=1.5 .......................................................\n",
      "[CV] .............. alpha=1.5, score=0.6494951624245752, total=   0.1s\n",
      "[CV] alpha=1.5 .......................................................\n",
      "[CV] .............. alpha=1.5, score=0.6493704421967248, total=   0.0s\n",
      "[CV] alpha=1.5 .......................................................\n",
      "[CV] ............... alpha=1.5, score=0.640399136287958, total=   0.0s\n",
      "[CV] alpha=1.5 .......................................................\n",
      "[CV] .............. alpha=1.5, score=0.6498054310613764, total=   0.1s\n",
      "[CV] alpha=1.5 .......................................................\n",
      "[CV] .............. alpha=1.5, score=0.6399130480564164, total=   0.1s\n",
      "[CV] alpha=1.5 .......................................................\n",
      "[CV] .............. alpha=1.5, score=0.6660216874398829, total=   0.0s\n",
      "[CV] alpha=1.5 .......................................................\n",
      "[CV] .............. alpha=1.5, score=0.6465178932322543, total=   0.1s\n",
      "[CV] alpha=1.5 .......................................................\n",
      "[CV] .............. alpha=1.5, score=0.6479950131676253, total=   0.0s\n",
      "[CV] alpha=1.5 .......................................................\n",
      "[CV] .............. alpha=1.5, score=0.6628096160104971, total=   0.0s\n",
      "[CV] alpha=2 .........................................................\n",
      "[CV] ................ alpha=2, score=0.6562937527074255, total=   0.1s\n",
      "[CV] alpha=2 .........................................................\n",
      "[CV] ................ alpha=2, score=0.6479566341486147, total=   0.0s\n",
      "[CV] alpha=2 .........................................................\n",
      "[CV] ................ alpha=2, score=0.6477216548605899, total=   0.0s\n",
      "[CV] alpha=2 .........................................................\n",
      "[CV] ................ alpha=2, score=0.6390962078045412, total=   0.1s\n",
      "[CV] alpha=2 .........................................................\n",
      "[CV] ................ alpha=2, score=0.6480669177092852, total=   0.1s\n",
      "[CV] alpha=2 .........................................................\n",
      "[CV] ................ alpha=2, score=0.6384784555423131, total=   0.1s\n",
      "[CV] alpha=2 .........................................................\n",
      "[CV] ................ alpha=2, score=0.6643867098791448, total=   0.1s\n",
      "[CV] alpha=2 .........................................................\n",
      "[CV] ................ alpha=2, score=0.6448383129487467, total=   0.1s\n",
      "[CV] alpha=2 .........................................................\n",
      "[CV] ................ alpha=2, score=0.6461596136800047, total=   0.1s\n",
      "[CV] alpha=2 .........................................................\n",
      "[CV] ................ alpha=2, score=0.6608991758713886, total=   0.1s\n",
      "Trained linear regression model!\n",
      "Summary of best model:\n",
      "Ridge(alpha=0.5, copy_X=True, fit_intercept=True, max_iter=None,\n",
      "   normalize=False, random_state=None, solver='auto', tol=0.001)\n"
     ]
    },
    {
     "name": "stderr",
     "output_type": "stream",
     "text": [
      "[Parallel(n_jobs=1)]: Done  50 out of  50 | elapsed:    5.2s finished\n"
     ]
    }
   ],
   "source": [
    "#Method 3 - use description to predict tags\n",
    "\n",
    "from sklearn.linear_model import Ridge\n",
    "from sklearn.model_selection import GridSearchCV\n",
    "\n",
    "parameters = {\"alpha\": [0.01, 0.1, 1, 2, 5, 10, 100]}\n",
    "reg = GridSearchCV(Ridge(), param_grid=parameters, cv=10, verbose=10)\n",
    "reg.fit(x_train, x_train_tags)\n",
    "reg_best = reg.best_estimator_\n",
    "\n",
    "print(\"Trained linear regression model!\")\n",
    "print(\"Summary of best model:\")\n",
    "print(reg_best)"
   ]
  },
  {
   "cell_type": "code",
   "execution_count": 36,
   "metadata": {},
   "outputs": [
    {
     "name": "stdout",
     "output_type": "stream",
     "text": [
      "Fitting 10 folds for each of 7 candidates, totalling 70 fits\n",
      "[CV] alpha=0.1 .......................................................\n"
     ]
    },
    {
     "name": "stderr",
     "output_type": "stream",
     "text": [
      "[Parallel(n_jobs=1)]: Using backend SequentialBackend with 1 concurrent workers.\n"
     ]
    },
    {
     "name": "stdout",
     "output_type": "stream",
     "text": [
      "[CV] .............. alpha=0.1, score=0.4924541234127216, total=   0.4s\n",
      "[CV] alpha=0.1 .......................................................\n"
     ]
    },
    {
     "name": "stderr",
     "output_type": "stream",
     "text": [
      "[Parallel(n_jobs=1)]: Done   1 out of   1 | elapsed:    0.5s remaining:    0.0s\n"
     ]
    },
    {
     "name": "stdout",
     "output_type": "stream",
     "text": [
      "[CV] .............. alpha=0.1, score=0.4788508120985232, total=   0.4s\n",
      "[CV] alpha=0.1 .......................................................\n"
     ]
    },
    {
     "name": "stderr",
     "output_type": "stream",
     "text": [
      "[Parallel(n_jobs=1)]: Done   2 out of   2 | elapsed:    1.0s remaining:    0.0s\n"
     ]
    },
    {
     "name": "stdout",
     "output_type": "stream",
     "text": [
      "[CV] .............. alpha=0.1, score=0.4758009604625774, total=   0.4s\n",
      "[CV] alpha=0.1 .......................................................\n"
     ]
    },
    {
     "name": "stderr",
     "output_type": "stream",
     "text": [
      "[Parallel(n_jobs=1)]: Done   3 out of   3 | elapsed:    1.6s remaining:    0.0s\n"
     ]
    },
    {
     "name": "stdout",
     "output_type": "stream",
     "text": [
      "[CV] .............. alpha=0.1, score=0.4908751780125679, total=   0.4s\n",
      "[CV] alpha=0.1 .......................................................\n"
     ]
    },
    {
     "name": "stderr",
     "output_type": "stream",
     "text": [
      "[Parallel(n_jobs=1)]: Done   4 out of   4 | elapsed:    2.1s remaining:    0.0s\n"
     ]
    },
    {
     "name": "stdout",
     "output_type": "stream",
     "text": [
      "[CV] .............. alpha=0.1, score=0.4811136533282584, total=   0.4s\n",
      "[CV] alpha=0.1 .......................................................\n"
     ]
    },
    {
     "name": "stderr",
     "output_type": "stream",
     "text": [
      "[Parallel(n_jobs=1)]: Done   5 out of   5 | elapsed:    2.6s remaining:    0.0s\n"
     ]
    },
    {
     "name": "stdout",
     "output_type": "stream",
     "text": [
      "[CV] .............. alpha=0.1, score=0.4734618772607761, total=   0.4s\n",
      "[CV] alpha=0.1 .......................................................\n"
     ]
    },
    {
     "name": "stderr",
     "output_type": "stream",
     "text": [
      "[Parallel(n_jobs=1)]: Done   6 out of   6 | elapsed:    3.1s remaining:    0.0s\n"
     ]
    },
    {
     "name": "stdout",
     "output_type": "stream",
     "text": [
      "[CV] ............. alpha=0.1, score=0.48892149569425825, total=   0.4s\n",
      "[CV] alpha=0.1 .......................................................\n"
     ]
    },
    {
     "name": "stderr",
     "output_type": "stream",
     "text": [
      "[Parallel(n_jobs=1)]: Done   7 out of   7 | elapsed:    3.6s remaining:    0.0s\n"
     ]
    },
    {
     "name": "stdout",
     "output_type": "stream",
     "text": [
      "[CV] .............. alpha=0.1, score=0.4893221247180699, total=   0.4s\n",
      "[CV] alpha=0.1 .......................................................\n"
     ]
    },
    {
     "name": "stderr",
     "output_type": "stream",
     "text": [
      "[Parallel(n_jobs=1)]: Done   8 out of   8 | elapsed:    4.1s remaining:    0.0s\n"
     ]
    },
    {
     "name": "stdout",
     "output_type": "stream",
     "text": [
      "[CV] ............. alpha=0.1, score=0.47347235940409493, total=   0.4s\n",
      "[CV] alpha=0.1 .......................................................\n"
     ]
    },
    {
     "name": "stderr",
     "output_type": "stream",
     "text": [
      "[Parallel(n_jobs=1)]: Done   9 out of   9 | elapsed:    4.6s remaining:    0.0s\n"
     ]
    },
    {
     "name": "stdout",
     "output_type": "stream",
     "text": [
      "[CV] .............. alpha=0.1, score=0.4700440073788237, total=   0.4s\n",
      "[CV] alpha=0.5 .......................................................\n",
      "[CV] ............. alpha=0.5, score=0.49764964012056134, total=   0.4s\n",
      "[CV] alpha=0.5 .......................................................\n",
      "[CV] .............. alpha=0.5, score=0.4845691920735378, total=   0.4s\n",
      "[CV] alpha=0.5 .......................................................\n",
      "[CV] ............. alpha=0.5, score=0.48138171367630084, total=   0.4s\n",
      "[CV] alpha=0.5 .......................................................\n",
      "[CV] .............. alpha=0.5, score=0.4963395681363638, total=   0.4s\n",
      "[CV] alpha=0.5 .......................................................\n",
      "[CV] .............. alpha=0.5, score=0.4865132226439228, total=   0.4s\n",
      "[CV] alpha=0.5 .......................................................\n",
      "[CV] .............. alpha=0.5, score=0.4789457518303309, total=   0.4s\n",
      "[CV] alpha=0.5 .......................................................\n",
      "[CV] ............. alpha=0.5, score=0.49392272391487435, total=   0.4s\n",
      "[CV] alpha=0.5 .......................................................\n",
      "[CV] .............. alpha=0.5, score=0.4945437298948986, total=   0.4s\n",
      "[CV] alpha=0.5 .......................................................\n",
      "[CV] ............. alpha=0.5, score=0.47961120109918437, total=   0.4s\n",
      "[CV] alpha=0.5 .......................................................\n",
      "[CV] ............. alpha=0.5, score=0.47565686214739117, total=   0.4s\n",
      "[CV] alpha=1 .........................................................\n",
      "[CV] ................ alpha=1, score=0.5017157546663341, total=   0.4s\n",
      "[CV] alpha=1 .........................................................\n",
      "[CV] ................ alpha=1, score=0.4889909171107926, total=   0.4s\n",
      "[CV] alpha=1 .........................................................\n",
      "[CV] ................ alpha=1, score=0.4857644698503954, total=   0.4s\n",
      "[CV] alpha=1 .........................................................\n",
      "[CV] ................ alpha=1, score=0.5005680704791475, total=   0.4s\n",
      "[CV] alpha=1 .........................................................\n",
      "[CV] ................ alpha=1, score=0.4906776347516349, total=   0.4s\n",
      "[CV] alpha=1 .........................................................\n",
      "[CV] ............... alpha=1, score=0.48325482919032564, total=   0.4s\n",
      "[CV] alpha=1 .........................................................\n",
      "[CV] ................ alpha=1, score=0.4977941701829636, total=   0.4s\n",
      "[CV] alpha=1 .........................................................\n",
      "[CV] ................ alpha=1, score=0.4986034135031191, total=   0.4s\n",
      "[CV] alpha=1 .........................................................\n",
      "[CV] ............... alpha=1, score=0.48442436111274295, total=   0.4s\n",
      "[CV] alpha=1 .........................................................\n",
      "[CV] ................ alpha=1, score=0.4800407683445994, total=   0.4s\n",
      "[CV] alpha=2 .........................................................\n",
      "[CV] ................ alpha=2, score=0.5065450853089782, total=   0.4s\n",
      "[CV] alpha=2 .........................................................\n",
      "[CV] ................. alpha=2, score=0.494188724600348, total=   0.5s\n",
      "[CV] alpha=2 .........................................................\n",
      "[CV] ............... alpha=2, score=0.49101443832450353, total=   0.4s\n",
      "[CV] alpha=2 .........................................................\n",
      "[CV] ................ alpha=2, score=0.5055566689082274, total=   0.4s\n",
      "[CV] alpha=2 .........................................................\n",
      "[CV] ............... alpha=2, score=0.49557367384248735, total=   0.4s\n",
      "[CV] alpha=2 .........................................................\n",
      "[CV] ............... alpha=2, score=0.48840028982583694, total=   0.4s\n",
      "[CV] alpha=2 .........................................................\n",
      "[CV] ................ alpha=2, score=0.5023618960097512, total=   0.5s\n",
      "[CV] alpha=2 .........................................................\n",
      "[CV] ................ alpha=2, score=0.5033910489753911, total=   0.5s\n",
      "[CV] alpha=2 .........................................................\n",
      "[CV] ................ alpha=2, score=0.4901538271466863, total=   0.4s\n",
      "[CV] alpha=2 .........................................................\n",
      "[CV] ............... alpha=2, score=0.48526443219500787, total=   0.4s\n",
      "[CV] alpha=5 .........................................................\n",
      "[CV] ................ alpha=5, score=0.5129394690242488, total=   0.4s\n",
      "[CV] alpha=5 .........................................................\n",
      "[CV] ................ alpha=5, score=0.5010094251037006, total=   0.5s\n",
      "[CV] alpha=5 .........................................................\n",
      "[CV] ............... alpha=5, score=0.49810265165450657, total=   0.4s\n",
      "[CV] alpha=5 .........................................................\n",
      "[CV] ................ alpha=5, score=0.5121409755483609, total=   0.4s\n",
      "[CV] alpha=5 .........................................................\n",
      "[CV] ................ alpha=5, score=0.5020489713028411, total=   0.4s\n",
      "[CV] alpha=5 .........................................................\n",
      "[CV] ................ alpha=5, score=0.4952681190147267, total=   0.5s\n",
      "[CV] alpha=5 .........................................................\n",
      "[CV] ................ alpha=5, score=0.5084142987032537, total=   0.5s\n",
      "[CV] alpha=5 .........................................................\n",
      "[CV] ................ alpha=5, score=0.5096420894845937, total=   0.4s\n",
      "[CV] alpha=5 .........................................................\n",
      "[CV] ................ alpha=5, score=0.4977829971350071, total=   0.6s\n",
      "[CV] alpha=5 .........................................................\n",
      "[CV] ................ alpha=5, score=0.4922641858678689, total=   0.5s\n",
      "[CV] alpha=10 ........................................................\n",
      "[CV] ............... alpha=10, score=0.5169549089615927, total=   0.5s\n",
      "[CV] alpha=10 ........................................................\n",
      "[CV] ................ alpha=10, score=0.505296568341092, total=   0.4s\n",
      "[CV] alpha=10 ........................................................\n",
      "[CV] ............... alpha=10, score=0.5026863951849457, total=   0.4s\n",
      "[CV] alpha=10 ........................................................\n",
      "[CV] ............... alpha=10, score=0.5162738220067786, total=   0.4s\n",
      "[CV] alpha=10 ........................................................\n",
      "[CV] ............... alpha=10, score=0.5062041030501685, total=   0.4s\n",
      "[CV] alpha=10 ........................................................\n",
      "[CV] .............. alpha=10, score=0.49962824963108965, total=   0.5s\n",
      "[CV] alpha=10 ........................................................\n",
      "[CV] ............... alpha=10, score=0.5122738005013976, total=   0.4s\n",
      "[CV] alpha=10 ........................................................\n",
      "[CV] ............... alpha=10, score=0.5134702817013492, total=   0.5s\n",
      "[CV] alpha=10 ........................................................\n",
      "[CV] ............... alpha=10, score=0.5026620149987518, total=   0.5s\n",
      "[CV] alpha=10 ........................................................\n",
      "[CV] ............... alpha=10, score=0.4967433343932016, total=   0.5s\n",
      "[CV] alpha=100 .......................................................\n",
      "[CV] .............. alpha=100, score=0.5217088824809236, total=   0.4s\n",
      "[CV] alpha=100 .......................................................\n",
      "[CV] .............. alpha=100, score=0.5109011542789781, total=   0.4s\n",
      "[CV] alpha=100 .......................................................\n",
      "[CV] .............. alpha=100, score=0.5088150759228716, total=   0.5s\n",
      "[CV] alpha=100 .......................................................\n",
      "[CV] .............. alpha=100, score=0.5211364402668812, total=   0.5s\n",
      "[CV] alpha=100 .......................................................\n",
      "[CV] .............. alpha=100, score=0.5118730500929598, total=   0.4s\n",
      "[CV] alpha=100 .......................................................\n",
      "[CV] .............. alpha=100, score=0.5053422592126436, total=   0.4s\n",
      "[CV] alpha=100 .......................................................\n",
      "[CV] .............. alpha=100, score=0.5171777584493681, total=   0.4s\n",
      "[CV] alpha=100 .......................................................\n"
     ]
    },
    {
     "name": "stdout",
     "output_type": "stream",
     "text": [
      "[CV] ............... alpha=100, score=0.517613202325048, total=   0.4s\n",
      "[CV] alpha=100 .......................................................\n",
      "[CV] .............. alpha=100, score=0.5097316306332631, total=   0.5s\n",
      "[CV] alpha=100 .......................................................\n",
      "[CV] .............. alpha=100, score=0.5022875877360534, total=   0.4s\n"
     ]
    },
    {
     "name": "stderr",
     "output_type": "stream",
     "text": [
      "[Parallel(n_jobs=1)]: Done  70 out of  70 | elapsed:   38.9s finished\n"
     ]
    },
    {
     "name": "stdout",
     "output_type": "stream",
     "text": [
      "Trained linear regression model!\n",
      "Summary of best model:\n",
      "Ridge(alpha=100, copy_X=True, fit_intercept=True, max_iter=None,\n",
      "   normalize=False, random_state=None, solver='auto', tol=0.001)\n"
     ]
    }
   ],
   "source": [
    "#Method 4 - use ResNet image vectors to predict description\n",
    "\n",
    "parameters = {\"alpha\": [0.1, 0.5, 1, 2, 5, 10, 100]}\n",
    "reg = GridSearchCV(Ridge(), param_grid=parameters, cv=10, verbose=10)\n",
    "reg.fit(y_train, x_train)\n",
    "reg_best = reg.best_estimator_\n",
    "\n",
    "print(\"Trained linear regression model!\")\n",
    "print(\"Summary of best model:\")\n",
    "print(reg_best)"
   ]
  },
  {
   "cell_type": "code",
   "execution_count": 66,
   "metadata": {},
   "outputs": [
    {
     "name": "stdout",
     "output_type": "stream",
     "text": [
      "Fitting 10 folds for each of 6 candidates, totalling 60 fits\n",
      "[CV] alpha=0.01 ......................................................\n"
     ]
    },
    {
     "name": "stderr",
     "output_type": "stream",
     "text": [
      "[Parallel(n_jobs=1)]: Using backend SequentialBackend with 1 concurrent workers.\n"
     ]
    },
    {
     "name": "stdout",
     "output_type": "stream",
     "text": [
      "[CV] ............. alpha=0.01, score=0.5710760317893183, total=   0.5s\n",
      "[CV] alpha=0.01 ......................................................\n"
     ]
    },
    {
     "name": "stderr",
     "output_type": "stream",
     "text": [
      "[Parallel(n_jobs=1)]: Done   1 out of   1 | elapsed:    0.7s remaining:    0.0s\n"
     ]
    },
    {
     "name": "stdout",
     "output_type": "stream",
     "text": [
      "[CV] ............. alpha=0.01, score=0.5569262044280748, total=   0.7s\n",
      "[CV] alpha=0.01 ......................................................\n"
     ]
    },
    {
     "name": "stderr",
     "output_type": "stream",
     "text": [
      "[Parallel(n_jobs=1)]: Done   2 out of   2 | elapsed:    1.6s remaining:    0.0s\n"
     ]
    },
    {
     "name": "stdout",
     "output_type": "stream",
     "text": [
      "[CV] .............. alpha=0.01, score=0.565783384089551, total=   0.8s\n",
      "[CV] alpha=0.01 ......................................................\n"
     ]
    },
    {
     "name": "stderr",
     "output_type": "stream",
     "text": [
      "[Parallel(n_jobs=1)]: Done   3 out of   3 | elapsed:    2.5s remaining:    0.0s\n"
     ]
    },
    {
     "name": "stdout",
     "output_type": "stream",
     "text": [
      "[CV] .............. alpha=0.01, score=0.571360445322149, total=   0.7s\n",
      "[CV] alpha=0.01 ......................................................\n"
     ]
    },
    {
     "name": "stderr",
     "output_type": "stream",
     "text": [
      "[Parallel(n_jobs=1)]: Done   4 out of   4 | elapsed:    3.4s remaining:    0.0s\n"
     ]
    },
    {
     "name": "stdout",
     "output_type": "stream",
     "text": [
      "[CV] ............. alpha=0.01, score=0.5638462174814163, total=   0.6s\n",
      "[CV] alpha=0.01 ......................................................\n"
     ]
    },
    {
     "name": "stderr",
     "output_type": "stream",
     "text": [
      "[Parallel(n_jobs=1)]: Done   5 out of   5 | elapsed:    4.1s remaining:    0.0s\n"
     ]
    },
    {
     "name": "stdout",
     "output_type": "stream",
     "text": [
      "[CV] .............. alpha=0.01, score=0.557064574516982, total=   0.5s\n",
      "[CV] alpha=0.01 ......................................................\n"
     ]
    },
    {
     "name": "stderr",
     "output_type": "stream",
     "text": [
      "[Parallel(n_jobs=1)]: Done   6 out of   6 | elapsed:    4.8s remaining:    0.0s\n"
     ]
    },
    {
     "name": "stdout",
     "output_type": "stream",
     "text": [
      "[CV] ............. alpha=0.01, score=0.5755202149520334, total=   0.5s\n",
      "[CV] alpha=0.01 ......................................................\n"
     ]
    },
    {
     "name": "stderr",
     "output_type": "stream",
     "text": [
      "[Parallel(n_jobs=1)]: Done   7 out of   7 | elapsed:    5.5s remaining:    0.0s\n"
     ]
    },
    {
     "name": "stdout",
     "output_type": "stream",
     "text": [
      "[CV] ............... alpha=0.01, score=0.57262250770562, total=   0.6s\n",
      "[CV] alpha=0.01 ......................................................\n"
     ]
    },
    {
     "name": "stderr",
     "output_type": "stream",
     "text": [
      "[Parallel(n_jobs=1)]: Done   8 out of   8 | elapsed:    6.4s remaining:    0.0s\n"
     ]
    },
    {
     "name": "stdout",
     "output_type": "stream",
     "text": [
      "[CV] ............. alpha=0.01, score=0.5636907198125763, total=   0.6s\n",
      "[CV] alpha=0.01 ......................................................\n"
     ]
    },
    {
     "name": "stderr",
     "output_type": "stream",
     "text": [
      "[Parallel(n_jobs=1)]: Done   9 out of   9 | elapsed:    7.2s remaining:    0.0s\n"
     ]
    },
    {
     "name": "stdout",
     "output_type": "stream",
     "text": [
      "[CV] ............. alpha=0.01, score=0.5559812872026486, total=   0.7s\n",
      "[CV] alpha=0.1 .......................................................\n",
      "[CV] .............. alpha=0.1, score=0.5724933058188185, total=   0.6s\n",
      "[CV] alpha=0.1 .......................................................\n",
      "[CV] .............. alpha=0.1, score=0.5584957207865137, total=   0.6s\n",
      "[CV] alpha=0.1 .......................................................\n",
      "[CV] .............. alpha=0.1, score=0.5672788885426046, total=   0.6s\n",
      "[CV] alpha=0.1 .......................................................\n",
      "[CV] .............. alpha=0.1, score=0.5728499373018051, total=   0.5s\n",
      "[CV] alpha=0.1 .......................................................\n",
      "[CV] .............. alpha=0.1, score=0.5653812701916199, total=   0.7s\n",
      "[CV] alpha=0.1 .......................................................\n",
      "[CV] .............. alpha=0.1, score=0.5585647427396908, total=   0.8s\n",
      "[CV] alpha=0.1 .......................................................\n",
      "[CV] .............. alpha=0.1, score=0.5768694693893447, total=   0.6s\n",
      "[CV] alpha=0.1 .......................................................\n",
      "[CV] .............. alpha=0.1, score=0.5740576133145788, total=   0.6s\n",
      "[CV] alpha=0.1 .......................................................\n",
      "[CV] .............. alpha=0.1, score=0.5652564689876708, total=   0.6s\n",
      "[CV] alpha=0.1 .......................................................\n",
      "[CV] .............. alpha=0.1, score=0.5575299949617455, total=   0.6s\n",
      "[CV] alpha=1 .........................................................\n",
      "[CV] ................ alpha=1, score=0.5806506680209561, total=   0.6s\n",
      "[CV] alpha=1 .........................................................\n",
      "[CV] ................ alpha=1, score=0.5674535587062929, total=   0.6s\n",
      "[CV] alpha=1 .........................................................\n",
      "[CV] ................ alpha=1, score=0.5759071384709752, total=   0.6s\n",
      "[CV] alpha=1 .........................................................\n",
      "[CV] ................ alpha=1, score=0.5813224523658385, total=   0.6s\n",
      "[CV] alpha=1 .........................................................\n",
      "[CV] ................ alpha=1, score=0.5741172557704294, total=   0.6s\n",
      "[CV] alpha=1 .........................................................\n",
      "[CV] ................ alpha=1, score=0.5672235125220887, total=   0.6s\n",
      "[CV] alpha=1 .........................................................\n",
      "[CV] ................ alpha=1, score=0.5846088106944805, total=   0.7s\n",
      "[CV] alpha=1 .........................................................\n",
      "[CV] ................ alpha=1, score=0.5823504989323267, total=   1.0s\n",
      "[CV] alpha=1 .........................................................\n",
      "[CV] ................ alpha=1, score=0.5742862249128402, total=   1.0s\n",
      "[CV] alpha=1 .........................................................\n",
      "[CV] ................ alpha=1, score=0.5664530529532197, total=   0.8s\n",
      "[CV] alpha=10 ........................................................\n",
      "[CV] ............... alpha=10, score=0.5955441197904454, total=   0.7s\n",
      "[CV] alpha=10 ........................................................\n",
      "[CV] ............... alpha=10, score=0.5833789494609658, total=   0.6s\n",
      "[CV] alpha=10 ........................................................\n",
      "[CV] ............... alpha=10, score=0.5916435883294937, total=   0.6s\n",
      "[CV] alpha=10 ........................................................\n",
      "[CV] ............... alpha=10, score=0.5963840354401662, total=   0.9s\n",
      "[CV] alpha=10 ........................................................\n",
      "[CV] ............... alpha=10, score=0.5895607774805852, total=   0.9s\n",
      "[CV] alpha=10 ........................................................\n",
      "[CV] ............... alpha=10, score=0.5828397597045019, total=   0.8s\n",
      "[CV] alpha=10 ........................................................\n",
      "[CV] ............... alpha=10, score=0.5985779601223709, total=   0.6s\n",
      "[CV] alpha=10 ........................................................\n",
      "[CV] ............... alpha=10, score=0.5971936803295983, total=   0.7s\n",
      "[CV] alpha=10 ........................................................\n",
      "[CV] ............... alpha=10, score=0.5903378910345058, total=   0.6s\n",
      "[CV] alpha=10 ........................................................\n",
      "[CV] ............... alpha=10, score=0.5828912606582896, total=   0.8s\n",
      "[CV] alpha=100 .......................................................\n",
      "[CV] ............... alpha=100, score=0.602911384679636, total=   0.7s\n",
      "[CV] alpha=100 .......................................................\n",
      "[CV] .............. alpha=100, score=0.5911791390588755, total=   0.8s\n",
      "[CV] alpha=100 .......................................................\n",
      "[CV] .............. alpha=100, score=0.5972066780972605, total=   0.8s\n",
      "[CV] alpha=100 .......................................................\n",
      "[CV] .............. alpha=100, score=0.6027482642334555, total=   0.6s\n",
      "[CV] alpha=100 .......................................................\n",
      "[CV] .............. alpha=100, score=0.5966188027896597, total=   0.7s\n",
      "[CV] alpha=100 .......................................................\n",
      "[CV] .............. alpha=100, score=0.5897709074195542, total=   0.6s\n",
      "[CV] alpha=100 .......................................................\n",
      "[CV] ............... alpha=100, score=0.604347859377575, total=   0.6s\n",
      "[CV] alpha=100 .......................................................\n",
      "[CV] ............... alpha=100, score=0.602489717852891, total=   0.6s\n",
      "[CV] alpha=100 .......................................................\n",
      "[CV] .............. alpha=100, score=0.5968721990532155, total=   0.6s\n",
      "[CV] alpha=100 .......................................................\n",
      "[CV] .............. alpha=100, score=0.5907675632212224, total=   0.7s\n",
      "[CV] alpha=500 .......................................................\n",
      "[CV] .............. alpha=500, score=0.5925539600771234, total=   0.8s\n",
      "[CV] alpha=500 .......................................................\n",
      "[CV] .............. alpha=500, score=0.5817798253411952, total=   0.6s\n",
      "[CV] alpha=500 .......................................................\n",
      "[CV] .............. alpha=500, score=0.5838387126446426, total=   0.7s\n",
      "[CV] alpha=500 .......................................................\n",
      "[CV] .............. alpha=500, score=0.5929358877148758, total=   0.7s\n",
      "[CV] alpha=500 .......................................................\n",
      "[CV] .............. alpha=500, score=0.5857866349901877, total=   0.7s\n",
      "[CV] alpha=500 .......................................................\n",
      "[CV] .............. alpha=500, score=0.5788232192646834, total=   0.7s\n",
      "[CV] alpha=500 .......................................................\n",
      "[CV] .............. alpha=500, score=0.5924712181691386, total=   0.7s\n",
      "[CV] alpha=500 .......................................................\n",
      "[CV] .............. alpha=500, score=0.5905689586213863, total=   0.6s\n",
      "[CV] alpha=500 .......................................................\n",
      "[CV] .............. alpha=500, score=0.5846338698543203, total=   0.6s\n",
      "[CV] alpha=500 .......................................................\n",
      "[CV] .............. alpha=500, score=0.5792129913075312, total=   0.7s\n"
     ]
    },
    {
     "name": "stderr",
     "output_type": "stream",
     "text": [
      "[Parallel(n_jobs=1)]: Done  60 out of  60 | elapsed:   50.1s finished\n"
     ]
    },
    {
     "name": "stdout",
     "output_type": "stream",
     "text": [
      "Trained linear regression model!\n",
      "Summary of best model:\n",
      "Ridge(alpha=100, copy_X=True, fit_intercept=True, max_iter=None,\n",
      "   normalize=False, random_state=None, solver='auto', tol=0.001)\n"
     ]
    }
   ],
   "source": [
    "#Method 7 - use ResNet image vectors + tags to predict description with Ridge\n",
    "\n",
    "combined_img_train = np.concatenate((y_train, x_train_tags), axis=1)\n",
    "combined_img_dev = np.concatenate((y_dev, x_dev_tags), axis=1)\n",
    "combined_img_test = np.concatenate((y_test, x_test_tags), axis=1)\n",
    "\n",
    "parameters = {\"alpha\": [0.01, 0.1, 1, 10, 100, 500]}\n",
    "reg = GridSearchCV(Ridge(), param_grid=parameters, cv=10, verbose=10)\n",
    "reg.fit(combined_img_train, x_train)\n",
    "reg_best = reg.best_estimator_\n",
    "\n",
    "print(\"Trained linear regression model!\")\n",
    "print(\"Summary of best model:\")\n",
    "print(reg_best)"
   ]
  },
  {
   "cell_type": "code",
   "execution_count": null,
   "metadata": {},
   "outputs": [],
   "source": [
    "## Methods 5 and 6"
   ]
  },
  {
   "cell_type": "code",
   "execution_count": 70,
   "metadata": {},
   "outputs": [],
   "source": [
    "from sklearn.ensemble import ExtraTreesRegressor"
   ]
  },
  {
   "cell_type": "code",
   "execution_count": 72,
   "metadata": {},
   "outputs": [
    {
     "name": "stderr",
     "output_type": "stream",
     "text": [
      "[Parallel(n_jobs=-1)]: Using backend ThreadingBackend with 4 concurrent workers.\n"
     ]
    },
    {
     "name": "stdout",
     "output_type": "stream",
     "text": [
      "building tree 1 of 10\n",
      "building tree 2 of 10\n",
      "building tree 3 of 10\n",
      "building tree 4 of 10\n",
      "building tree 5 of 10\n",
      "building tree 6 of 10\n",
      "building tree 7 of 10\n",
      "building tree 8 of 10\n"
     ]
    },
    {
     "name": "stderr",
     "output_type": "stream",
     "text": [
      "[Parallel(n_jobs=-1)]: Done   5 out of  10 | elapsed:   24.2s remaining:   24.2s\n"
     ]
    },
    {
     "name": "stdout",
     "output_type": "stream",
     "text": [
      "building tree 9 of 10\n",
      "building tree 10 of 10\n"
     ]
    },
    {
     "name": "stderr",
     "output_type": "stream",
     "text": [
      "[Parallel(n_jobs=-1)]: Done   7 out of  10 | elapsed:   24.7s remaining:   10.6s\n",
      "[Parallel(n_jobs=-1)]: Done  10 out of  10 | elapsed:   32.3s finished\n"
     ]
    },
    {
     "data": {
      "text/plain": [
       "ExtraTreesRegressor(bootstrap=True, criterion='mse', max_depth=None,\n",
       "          max_features='auto', max_leaf_nodes=None,\n",
       "          min_impurity_decrease=0.0, min_impurity_split=None,\n",
       "          min_samples_leaf=1, min_samples_split=2,\n",
       "          min_weight_fraction_leaf=0.0, n_estimators=10, n_jobs=-1,\n",
       "          oob_score=False, random_state=None, verbose=10, warm_start=False)"
      ]
     },
     "execution_count": 72,
     "metadata": {},
     "output_type": "execute_result"
    }
   ],
   "source": [
    "et_model_flipped = ExtraTreesRegressor(bootstrap=True, n_jobs=-1, verbose=10)\n",
    "et_model_flipped.fit(combined_img_train, x_train)"
   ]
  },
  {
   "cell_type": "code",
   "execution_count": 73,
   "metadata": {},
   "outputs": [],
   "source": [
    "from sklearn.ensemble import RandomForestRegressor"
   ]
  },
  {
   "cell_type": "code",
   "execution_count": 74,
   "metadata": {},
   "outputs": [
    {
     "name": "stderr",
     "output_type": "stream",
     "text": [
      "[Parallel(n_jobs=-1)]: Using backend ThreadingBackend with 4 concurrent workers.\n"
     ]
    },
    {
     "name": "stdout",
     "output_type": "stream",
     "text": [
      "building tree 1 of 10building tree 2 of 10building tree 3 of 10building tree 4 of 10\n",
      "\n",
      "\n",
      "\n",
      "building tree 5 of 10\n",
      "building tree 6 of 10\n",
      "building tree 7 of 10\n",
      "building tree 8 of 10\n"
     ]
    },
    {
     "name": "stderr",
     "output_type": "stream",
     "text": [
      "[Parallel(n_jobs=-1)]: Done   5 out of  10 | elapsed:  2.7min remaining:  2.7min\n"
     ]
    },
    {
     "name": "stdout",
     "output_type": "stream",
     "text": [
      "building tree 9 of 10\n",
      "building tree 10 of 10\n"
     ]
    },
    {
     "name": "stderr",
     "output_type": "stream",
     "text": [
      "[Parallel(n_jobs=-1)]: Done   7 out of  10 | elapsed:  2.8min remaining:  1.2min\n",
      "[Parallel(n_jobs=-1)]: Done  10 out of  10 | elapsed:  3.6min finished\n"
     ]
    },
    {
     "data": {
      "text/plain": [
       "RandomForestRegressor(bootstrap=True, criterion='mse', max_depth=None,\n",
       "           max_features='auto', max_leaf_nodes=None,\n",
       "           min_impurity_decrease=0.0, min_impurity_split=None,\n",
       "           min_samples_leaf=1, min_samples_split=2,\n",
       "           min_weight_fraction_leaf=0.0, n_estimators=10, n_jobs=-1,\n",
       "           oob_score=False, random_state=None, verbose=10,\n",
       "           warm_start=False)"
      ]
     },
     "execution_count": 74,
     "metadata": {},
     "output_type": "execute_result"
    }
   ],
   "source": [
    "rf_model_flipped = RandomForestRegressor(n_jobs=-1, verbose=10)\n",
    "rf_model_flipped.fit(combined_img_train, x_train)"
   ]
  },
  {
   "cell_type": "markdown",
   "metadata": {},
   "source": [
    "\n",
    "### 4. Predict on validation set\n"
   ]
  },
  {
   "cell_type": "code",
   "execution_count": 11,
   "metadata": {},
   "outputs": [],
   "source": [
    "#calculating euclidean distance\n",
    "#DEPRECATED\n",
    "\n",
    "def dist_matrix(x1, x2):\n",
    "    return ((np.expand_dims(x1, 1) - np.expand_dims(x2, 0)) ** 2).sum(2) ** 0.5"
   ]
  },
  {
   "cell_type": "code",
   "execution_count": 129,
   "metadata": {},
   "outputs": [
    {
     "name": "stdout",
     "output_type": "stream",
     "text": [
      "Development MAP@20: 0.16594818252353083\n",
      "Mean index of true image 56.8725\n",
      "Median index of true image 18.0\n"
     ]
    }
   ],
   "source": [
    "#Method 2\n",
    "\n",
    "y_dev_pred = reg.predict(x_dev)\n",
    "dev_distances = cosine_similarity(y_dev_pred, y_dev)\n",
    "dev_scores = []\n",
    "dev_pos_list = []\n",
    "\n",
    "for i in range(num_dev):\n",
    "    pred_dist_idx = list(np.argsort(dev_distances[i]))\n",
    "    pred_dist_idx.reverse()\n",
    "    dev_pos = pred_dist_idx.index(i)\n",
    "    dev_pos_list.append(dev_pos)\n",
    "    if dev_pos < 20:\n",
    "        dev_scores.append(1 / (dev_pos + 1))\n",
    "    else:\n",
    "        dev_scores.append(0.0)\n",
    "\n",
    "print(\"Development MAP@20:\", np.mean(dev_scores))\n",
    "print(\"Mean index of true image\", np.mean(dev_pos_list))\n",
    "print(\"Median index of true image\", np.median(dev_pos_list))"
   ]
  },
  {
   "cell_type": "code",
   "execution_count": 31,
   "metadata": {
    "scrolled": false
   },
   "outputs": [
    {
     "name": "stdout",
     "output_type": "stream",
     "text": [
      "Development MAP@20: 0.195760789051526\n",
      "Mean index of true image 34.95048004042446\n",
      "Median index of true image 12.0\n"
     ]
    }
   ],
   "source": [
    "#Method 3\n",
    "\n",
    "y_dev_pred = reg_best.predict(x_dev)\n",
    "dev_distances = cosine_similarity(y_dev_pred, x_dev_tags)\n",
    "dev_scores = []\n",
    "dev_pos_list = []\n",
    "\n",
    "for i in range(1979):\n",
    "    pred_dist_idx = list(np.argsort(dev_distances[i]))\n",
    "    pred_dist_idx.reverse()\n",
    "    dev_pos = pred_dist_idx.index(i)\n",
    "    dev_pos_list.append(dev_pos)\n",
    "    if dev_pos < 20:\n",
    "        dev_scores.append(1 / (dev_pos + 1))\n",
    "    else:\n",
    "        dev_scores.append(0.0)\n",
    "\n",
    "print(\"Development MAP@20:\", np.mean(dev_scores))\n",
    "print(\"Mean index of true image\", np.mean(dev_pos_list))\n",
    "print(\"Median index of true image\", np.median(dev_pos_list))"
   ]
  },
  {
   "cell_type": "code",
   "execution_count": 46,
   "metadata": {},
   "outputs": [
    {
     "name": "stdout",
     "output_type": "stream",
     "text": [
      "Development MAP@20: 0.3297697787506611\n",
      "Mean index of true image 16.738\n",
      "Median index of true image 5.0\n"
     ]
    }
   ],
   "source": [
    "#Method 4\n",
    "\n",
    "x_dev_pred = reg_best.predict(y_dev)                 ##predicting description vectors from image vectors\n",
    "dev_distances = cosine_similarity(x_dev, x_dev_pred)\n",
    "dev_scores = []\n",
    "dev_pos_list = []\n",
    "\n",
    "#for each true description vector, find the most similar \n",
    "#predicted description vectors and the corresponding images\n",
    "for i in range(num_dev):\n",
    "    desc_idx = list(np.argsort(dev_distances[i]))   \n",
    "    desc_idx.reverse()\n",
    "    dev_pos = desc_idx.index(i)\n",
    "    dev_pos_list.append(dev_pos)\n",
    "    if dev_pos < 20:\n",
    "        dev_scores.append(1 / (dev_pos + 1))\n",
    "    else:\n",
    "        dev_scores.append(0.0)\n",
    "\n",
    "print(\"Development MAP@20:\", np.mean(dev_scores))\n",
    "print(\"Mean index of true image\", np.mean(dev_pos_list))\n",
    "print(\"Median index of true image\", np.median(dev_pos_list))"
   ]
  },
  {
   "cell_type": "code",
   "execution_count": 81,
   "metadata": {},
   "outputs": [
    {
     "name": "stdout",
     "output_type": "stream",
     "text": [
      "Development MAP@20: 0.4619524335764854\n",
      "Mean index of true image 7.9425\n",
      "Median index of true image 2.0\n"
     ]
    }
   ],
   "source": [
    "#Method 7\n",
    "\n",
    "x_dev_pred = reg_best.predict(combined_img_dev)\n",
    "dev_distances = cosine_similarity(x_dev, x_dev_pred)\n",
    "dev_scores = []\n",
    "dev_pos_list = []\n",
    "\n",
    "for i in range(num_dev):\n",
    "    desc_idx = list(np.argsort(dev_distances[i]))\n",
    "    desc_idx.reverse()\n",
    "    dev_pos = desc_idx.index(i)\n",
    "    dev_pos_list.append(dev_pos)\n",
    "    if dev_pos < 20:\n",
    "        dev_scores.append(1 / (dev_pos + 1))\n",
    "    else:\n",
    "        dev_scores.append(0.0)\n",
    "\n",
    "print(\"Development MAP@20:\", np.mean(dev_scores))\n",
    "print(\"Mean index of true image\", np.mean(dev_pos_list))\n",
    "print(\"Median index of true image\", np.median(dev_pos_list))"
   ]
  },
  {
   "cell_type": "code",
   "execution_count": null,
   "metadata": {},
   "outputs": [],
   "source": [
    "## other models used in experimentation"
   ]
  },
  {
   "cell_type": "code",
   "execution_count": 75,
   "metadata": {},
   "outputs": [
    {
     "name": "stderr",
     "output_type": "stream",
     "text": [
      "[Parallel(n_jobs=4)]: Using backend ThreadingBackend with 4 concurrent workers.\n",
      "[Parallel(n_jobs=4)]: Done   5 out of  10 | elapsed:    0.0s remaining:    0.0s\n",
      "[Parallel(n_jobs=4)]: Done   7 out of  10 | elapsed:    0.1s remaining:    0.0s\n",
      "[Parallel(n_jobs=4)]: Done  10 out of  10 | elapsed:    0.1s finished\n"
     ]
    },
    {
     "name": "stdout",
     "output_type": "stream",
     "text": [
      "Development MAP@20: 0.21955806274478873\n",
      "Mean index of true image 26.71\n",
      "Median index of true image 10.0\n"
     ]
    }
   ],
   "source": [
    "#Method 6 - et\n",
    "\n",
    "x_dev_pred = et_model_flipped.predict(combined_img_dev)\n",
    "dev_distances = cosine_similarity(x_dev, x_dev_pred)\n",
    "dev_scores = []\n",
    "dev_pos_list = []\n",
    "\n",
    "for i in range(num_dev):\n",
    "    desc_idx = list(np.argsort(dev_distances[i]))\n",
    "    desc_idx.reverse()\n",
    "    dev_pos = desc_idx.index(i)\n",
    "    dev_pos_list.append(dev_pos)\n",
    "    if dev_pos < 20:\n",
    "        dev_scores.append(1 / (dev_pos + 1))\n",
    "    else:\n",
    "        dev_scores.append(0.0)\n",
    "\n",
    "print(\"Development MAP@20:\", np.mean(dev_scores))\n",
    "print(\"Mean index of true image\", np.mean(dev_pos_list))\n",
    "print(\"Median index of true image\", np.median(dev_pos_list))"
   ]
  },
  {
   "cell_type": "code",
   "execution_count": 76,
   "metadata": {},
   "outputs": [
    {
     "name": "stderr",
     "output_type": "stream",
     "text": [
      "[Parallel(n_jobs=4)]: Using backend ThreadingBackend with 4 concurrent workers.\n",
      "[Parallel(n_jobs=4)]: Done   5 out of  10 | elapsed:    0.0s remaining:    0.0s\n",
      "[Parallel(n_jobs=4)]: Done   7 out of  10 | elapsed:    0.1s remaining:    0.0s\n",
      "[Parallel(n_jobs=4)]: Done  10 out of  10 | elapsed:    0.1s finished\n"
     ]
    },
    {
     "name": "stdout",
     "output_type": "stream",
     "text": [
      "Development MAP@20: 0.21215280937887362\n",
      "Mean index of true image 32.725\n",
      "Median index of true image 10.0\n"
     ]
    }
   ],
   "source": [
    "#Method 5 - rf\n",
    "\n",
    "x_dev_pred = rf_model_flipped.predict(combined_img_dev)\n",
    "dev_distances = cosine_similarity(x_dev, x_dev_pred)\n",
    "dev_scores = []\n",
    "dev_pos_list = []\n",
    "\n",
    "for i in range(num_dev):\n",
    "    desc_idx = list(np.argsort(dev_distances[i]))\n",
    "    desc_idx.reverse()\n",
    "    dev_pos = desc_idx.index(i)\n",
    "    dev_pos_list.append(dev_pos)\n",
    "    if dev_pos < 20:\n",
    "        dev_scores.append(1 / (dev_pos + 1))\n",
    "    else:\n",
    "        dev_scores.append(0.0)\n",
    "\n",
    "print(\"Development MAP@20:\", np.mean(dev_scores))\n",
    "print(\"Mean index of true image\", np.mean(dev_pos_list))\n",
    "print(\"Median index of true image\", np.median(dev_pos_list))"
   ]
  },
  {
   "cell_type": "markdown",
   "metadata": {},
   "source": [
    "\n",
    "### 5. Predict on test set and generate output .csv file\n"
   ]
  },
  {
   "cell_type": "code",
   "execution_count": 63,
   "metadata": {},
   "outputs": [
    {
     "name": "stdout",
     "output_type": "stream",
     "text": [
      "Output written!\n"
     ]
    }
   ],
   "source": [
    "#Method 7\n",
    "x_train_all = np.concatenate([x_train, x_dev])                             ##description vectors\n",
    "img_train_all = np.concatenate([combined_img_train, combined_img_dev])     ##combined ResNet + tag vectors\n",
    "reg_best.fit(img_train_all, x_train_all)\n",
    "\n",
    "x_test_pred = reg_best.predict(combined_img_test)\n",
    "test_distances = cosine_similarity(x_test, x_test_pred)\n",
    "pred_rows = []\n",
    "\n",
    "for i in range(num_test):\n",
    "    test_dist_idx = list(np.argsort(test_distances[i]))\n",
    "    test_dist_idx.reverse()\n",
    "    top_20 = test_dist_idx[:20]\n",
    "    row = [\"%d.jpg\" % i for i in test_dist_idx[:20]]\n",
    "    pred_rows.append(\" \".join(row))\n",
    "\n",
    "with open(\"test_submission.csv\", \"w\") as f:\n",
    "    f.write(\"Descritpion_ID,Top_20_Image_IDs\\n\")\n",
    "    for i, row in enumerate(pred_rows):\n",
    "        f.write(\"%d.txt,%s\\n\" % (i, row))\n",
    "\n",
    "print(\"Output written!\")"
   ]
  },
  {
   "cell_type": "markdown",
   "metadata": {},
   "source": [
    "### The end!"
   ]
  }
 ],
 "metadata": {
  "kernelspec": {
   "display_name": "Python 3",
   "language": "python",
   "name": "python3"
  },
  "language_info": {
   "codemirror_mode": {
    "name": "ipython",
    "version": 3
   },
   "file_extension": ".py",
   "mimetype": "text/x-python",
   "name": "python",
   "nbconvert_exporter": "python",
   "pygments_lexer": "ipython3",
   "version": "3.6.5"
  }
 },
 "nbformat": 4,
 "nbformat_minor": 2
}
