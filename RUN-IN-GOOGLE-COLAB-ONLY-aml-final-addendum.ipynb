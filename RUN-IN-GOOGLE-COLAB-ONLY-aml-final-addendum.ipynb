{
  "nbformat": 4,
  "nbformat_minor": 0,
  "metadata": {
    "colab": {
      "name": "aml-final-a8-run-in-google-colab-only.ipynb",
      "provenance": [],
      "collapsed_sections": [],
      "machine_shape": "hm"
    },
    "kernelspec": {
      "name": "python3",
      "display_name": "Python 3"
    }
  },
  "cells": [
    {
      "cell_type": "markdown",
      "metadata": {
        "id": "DWv8wpdVtKtu",
        "colab_type": "text"
      },
      "source": [
        "# CS5785 final - approach 8\n",
        "### This file contains additional experiments (approach 8) performed on the project. ***read the warnings below before you run the code!!***"
      ]
    },
    {
      "cell_type": "markdown",
      "metadata": {
        "id": "N7e-CTm1rz5o",
        "colab_type": "text"
      },
      "source": [
        "# **WARNING**: Due to the large amount of data generated, this file is only suitable to run in Google Colab or other similar services. Running this file on your local machine is strongly discouraged and could cause unexpected and/or undesirable consequences."
      ]
    },
    {
      "cell_type": "code",
      "metadata": {
        "id": "M9KAkqeR0WHT",
        "colab_type": "code",
        "outputId": "3434303c-f886-47f8-8148-178cc120e326",
        "colab": {
          "base_uri": "https://localhost:8080/",
          "height": 306
        }
      },
      "source": [
        "#!pip install gensim"
      ],
      "execution_count": 0,
      "outputs": [
        {
          "output_type": "stream",
          "text": [
            "Requirement already satisfied: gensim in /usr/local/lib/python3.6/dist-packages (3.6.0)\n",
            "Requirement already satisfied: smart-open>=1.2.1 in /usr/local/lib/python3.6/dist-packages (from gensim) (1.9.0)\n",
            "Requirement already satisfied: scipy>=0.18.1 in /usr/local/lib/python3.6/dist-packages (from gensim) (1.3.3)\n",
            "Requirement already satisfied: six>=1.5.0 in /usr/local/lib/python3.6/dist-packages (from gensim) (1.12.0)\n",
            "Requirement already satisfied: numpy>=1.11.3 in /usr/local/lib/python3.6/dist-packages (from gensim) (1.17.4)\n",
            "Requirement already satisfied: requests in /usr/local/lib/python3.6/dist-packages (from smart-open>=1.2.1->gensim) (2.21.0)\n",
            "Requirement already satisfied: boto3 in /usr/local/lib/python3.6/dist-packages (from smart-open>=1.2.1->gensim) (1.10.32)\n",
            "Requirement already satisfied: boto>=2.32 in /usr/local/lib/python3.6/dist-packages (from smart-open>=1.2.1->gensim) (2.49.0)\n",
            "Requirement already satisfied: idna<2.9,>=2.5 in /usr/local/lib/python3.6/dist-packages (from requests->smart-open>=1.2.1->gensim) (2.8)\n",
            "Requirement already satisfied: certifi>=2017.4.17 in /usr/local/lib/python3.6/dist-packages (from requests->smart-open>=1.2.1->gensim) (2019.11.28)\n",
            "Requirement already satisfied: chardet<3.1.0,>=3.0.2 in /usr/local/lib/python3.6/dist-packages (from requests->smart-open>=1.2.1->gensim) (3.0.4)\n",
            "Requirement already satisfied: urllib3<1.25,>=1.21.1 in /usr/local/lib/python3.6/dist-packages (from requests->smart-open>=1.2.1->gensim) (1.24.3)\n",
            "Requirement already satisfied: s3transfer<0.3.0,>=0.2.0 in /usr/local/lib/python3.6/dist-packages (from boto3->smart-open>=1.2.1->gensim) (0.2.1)\n",
            "Requirement already satisfied: jmespath<1.0.0,>=0.7.1 in /usr/local/lib/python3.6/dist-packages (from boto3->smart-open>=1.2.1->gensim) (0.9.4)\n",
            "Requirement already satisfied: botocore<1.14.0,>=1.13.32 in /usr/local/lib/python3.6/dist-packages (from boto3->smart-open>=1.2.1->gensim) (1.13.32)\n",
            "Requirement already satisfied: docutils<0.16,>=0.10 in /usr/local/lib/python3.6/dist-packages (from botocore<1.14.0,>=1.13.32->boto3->smart-open>=1.2.1->gensim) (0.15.2)\n",
            "Requirement already satisfied: python-dateutil<2.8.1,>=2.1; python_version >= \"2.7\" in /usr/local/lib/python3.6/dist-packages (from botocore<1.14.0,>=1.13.32->boto3->smart-open>=1.2.1->gensim) (2.6.1)\n"
          ],
          "name": "stdout"
        }
      ]
    },
    {
      "cell_type": "code",
      "metadata": {
        "id": "oornZ6Ae0bMb",
        "colab_type": "code",
        "outputId": "d5ffd947-67a1-40c8-f3d5-97d5c376ec6a",
        "colab": {
          "base_uri": "https://localhost:8080/",
          "height": 204
        }
      },
      "source": [
        "#!wget -c \"https://s3.amazonaws.com/dl4j-distribution/GoogleNews-vectors-negative300.bin.gz\""
      ],
      "execution_count": 1,
      "outputs": [
        {
          "output_type": "stream",
          "text": [
            "--2019-12-07 22:41:46--  https://s3.amazonaws.com/dl4j-distribution/GoogleNews-vectors-negative300.bin.gz\n",
            "Resolving s3.amazonaws.com (s3.amazonaws.com)... 52.217.0.182\n",
            "Connecting to s3.amazonaws.com (s3.amazonaws.com)|52.217.0.182|:443... connected.\n",
            "HTTP request sent, awaiting response... 200 OK\n",
            "Length: 1647046227 (1.5G) [application/x-gzip]\n",
            "Saving to: ‘GoogleNews-vectors-negative300.bin.gz’\n",
            "\n",
            "GoogleNews-vectors- 100%[===================>]   1.53G   126MB/s    in 17s     \n",
            "\n",
            "2019-12-07 22:42:04 (90.4 MB/s) - ‘GoogleNews-vectors-negative300.bin.gz’ saved [1647046227/1647046227]\n",
            "\n"
          ],
          "name": "stdout"
        }
      ]
    },
    {
      "cell_type": "code",
      "metadata": {
        "id": "OE2oNgoW0ecv",
        "colab_type": "code",
        "colab": {}
      },
      "source": [
        "import os\n",
        "import csv\n",
        "import random\n",
        "#import gensim\n",
        "import numpy as np\n",
        "\n",
        "num_train = 8000\n",
        "num_dev = 2000\n",
        "num_test = 2000\n",
        "split_idx = list(range(num_train + num_dev))\n",
        "random.shuffle(split_idx)"
      ],
      "execution_count": 0,
      "outputs": []
    },
    {
      "cell_type": "code",
      "metadata": {
        "id": "oteamEx70qnr",
        "colab_type": "code",
        "outputId": "57df6e30-81e2-4822-db88-d53d2b977b65",
        "colab": {
          "base_uri": "https://localhost:8080/",
          "height": 122
        }
      },
      "source": [
        "#import saved .npy matrices from google drive\n",
        "from google.colab import drive\n",
        "drive.mount('/content/drive')"
      ],
      "execution_count": 2,
      "outputs": [
        {
          "output_type": "stream",
          "text": [
            "Go to this URL in a browser: https://accounts.google.com/o/oauth2/auth?client_id=947318989803-6bn6qk8qdgf4n4g3pfee6491hc0brc4i.apps.googleusercontent.com&redirect_uri=urn%3aietf%3awg%3aoauth%3a2.0%3aoob&response_type=code&scope=email%20https%3a%2f%2fwww.googleapis.com%2fauth%2fdocs.test%20https%3a%2f%2fwww.googleapis.com%2fauth%2fdrive%20https%3a%2f%2fwww.googleapis.com%2fauth%2fdrive.photos.readonly%20https%3a%2f%2fwww.googleapis.com%2fauth%2fpeopleapi.readonly\n",
            "\n",
            "Enter your authorization code:\n",
            "··········\n",
            "Mounted at /content/drive\n"
          ],
          "name": "stdout"
        }
      ]
    },
    {
      "cell_type": "code",
      "metadata": {
        "id": "DoeWormw0xCA",
        "colab_type": "code",
        "colab": {}
      },
      "source": [
        "x_train = np.load('/content/drive/My Drive/amlfinal/xtrain.npy')\n",
        "x_test = np.load('/content/drive/My Drive/amlfinal/xtest.npy')\n",
        "x_dev = np.load('/content/drive/My Drive/amlfinal/xdev.npy')\n",
        "y_train = np.load('/content/drive/My Drive/amlfinal/ytrainfull.npy')\n",
        "y_test = np.load('/content/drive/My Drive/amlfinal/ytestfull.npy')\n",
        "y_dev = np.load('/content/drive/My Drive/amlfinal/ydevfull.npy')"
      ],
      "execution_count": 0,
      "outputs": []
    },
    {
      "cell_type": "code",
      "metadata": {
        "id": "24li6aiA3eEH",
        "colab_type": "code",
        "outputId": "8b790d5e-b6b4-47e7-d5c4-3d953df3261d",
        "colab": {
          "base_uri": "https://localhost:8080/",
          "height": 34
        }
      },
      "source": [
        "import random\n",
        "\n",
        "augmented_train = []\n",
        "\n",
        "for i in range(8000):\n",
        "    true_row = np.concatenate((x_train[i], y_train[i], 1), axis=None)\n",
        "    random_1 = i\n",
        "    while random_1 == i:\n",
        "        random_1 = random.randint(0, 7999)\n",
        "    \n",
        "    random_2 = i\n",
        "    while random_2 == i:\n",
        "        random_2 = random.randint(0, 7999)\n",
        "\n",
        "    random_3 = i\n",
        "    while random_3 == i:\n",
        "        random_3 = random.randint(0, 7999)\n",
        "    \n",
        "    false_row_1 = np.concatenate((x_train[i], y_train[random_1], 0), axis=None)\n",
        "    false_row_2 = np.concatenate((x_train[i], y_train[random_2], 0), axis=None)\n",
        "    false_row_3 = np.concatenate((x_train[i], y_train[random_3], 0), axis=None)\n",
        "    \n",
        "    augmented_train.append(true_row)    \n",
        "    augmented_train.append(false_row_1)\n",
        "    augmented_train.append(false_row_2)\n",
        "    augmented_train.append(false_row_3)\n",
        "\n",
        "augmented_train = np.asarray(augmented_train)\n",
        "augmented_train_x = augmented_train[:,:-1]\n",
        "augmented_train_y = augmented_train[:,-1]\n",
        "\n",
        "print(augmented_train_x.shape, augmented_train_y.shape)"
      ],
      "execution_count": 8,
      "outputs": [
        {
          "output_type": "stream",
          "text": [
            "(32000, 1300) (32000,)\n"
          ],
          "name": "stdout"
        }
      ]
    },
    {
      "cell_type": "markdown",
      "metadata": {
        "id": "DTLmhOYVt84Y",
        "colab_type": "text"
      },
      "source": [
        "# **WARNING**: Due to the large amount of data generated, all sections below are only suitable to run in Google Colab or other similar services. Running this file on your local machine is strongly discouraged and could cause unexpected and/or undesirable consequences."
      ]
    },
    {
      "cell_type": "code",
      "metadata": {
        "id": "gQ7MCPnvEsbj",
        "colab_type": "code",
        "colab": {}
      },
      "source": [
        "#generating validation set\n",
        "augmented_val = [[0] * 1301] * (400*2000) "
      ],
      "execution_count": 0,
      "outputs": []
    },
    {
      "cell_type": "code",
      "metadata": {
        "id": "_MPJzyeEEw4t",
        "colab_type": "code",
        "colab": {}
      },
      "source": [
        "counter = 0\n",
        "for i in range(0, 400, 1):\n",
        "    for j in range(2000):\n",
        "        if i == j:\n",
        "            true_row = np.concatenate((x_dev[i], y_dev[j], 1), axis=None)\n",
        "            augmented_val[counter] = true_row\n",
        "        else:\n",
        "            false_row = np.concatenate((x_dev[i], y_dev[j], 0), axis=None)\n",
        "            augmented_val[counter] = false_row\n",
        "        counter += 1"
      ],
      "execution_count": 0,
      "outputs": []
    },
    {
      "cell_type": "code",
      "metadata": {
        "id": "QV7wWIsIxFn2",
        "colab_type": "code",
        "colab": {}
      },
      "source": [
        "aug_val = np.asarray(augmented_val)\n",
        "augmented_val_x = aug_val[:,:-1]\n",
        "augmented_val_y = aug_val[:,-1]"
      ],
      "execution_count": 0,
      "outputs": []
    },
    {
      "cell_type": "code",
      "metadata": {
        "id": "4kXoDhvRxeJT",
        "colab_type": "code",
        "outputId": "1ea9a0a1-623d-4648-a79d-f8740c68789c",
        "colab": {
          "base_uri": "https://localhost:8080/",
          "height": 34
        }
      },
      "source": [
        "print(augmented_val_x.shape, augmented_val_y.shape)"
      ],
      "execution_count": 13,
      "outputs": [
        {
          "output_type": "stream",
          "text": [
            "(800000, 1300) (800000,)\n"
          ],
          "name": "stdout"
        }
      ]
    },
    {
      "cell_type": "code",
      "metadata": {
        "id": "l3EagU6OxlZW",
        "colab_type": "code",
        "colab": {}
      },
      "source": [
        "#releasing memory\n",
        "augmented_val = []\n",
        "aug_val = []"
      ],
      "execution_count": 0,
      "outputs": []
    },
    {
      "cell_type": "code",
      "metadata": {
        "id": "fM4cJbQ0Ez09",
        "colab_type": "code",
        "colab": {}
      },
      "source": [
        "#data scaling with MinMaxScaler\n",
        "from sklearn.preprocessing import MinMaxScaler\n",
        "\n",
        "scaler = MinMaxScaler()\n",
        "X_train = scaler.fit_transform(augmented_train_x)\n",
        "augmented_train_x = []"
      ],
      "execution_count": 0,
      "outputs": []
    },
    {
      "cell_type": "code",
      "metadata": {
        "id": "Adm-6UH03dob",
        "colab_type": "code",
        "colab": {}
      },
      "source": [
        "X_val = scaler.fit_transform(augmented_val_x)\n",
        "augmented_val_x = []"
      ],
      "execution_count": 0,
      "outputs": []
    },
    {
      "cell_type": "code",
      "metadata": {
        "id": "OPncMRzms27_",
        "colab_type": "code",
        "colab": {
          "base_uri": "https://localhost:8080/",
          "height": 34
        },
        "outputId": "42c5b9dd-425e-4674-d23a-4c383fb020c2"
      },
      "source": [
        "X_train.shape"
      ],
      "execution_count": 61,
      "outputs": [
        {
          "output_type": "execute_result",
          "data": {
            "text/plain": [
              "(32000, 1300)"
            ]
          },
          "metadata": {
            "tags": []
          },
          "execution_count": 61
        }
      ]
    },
    {
      "cell_type": "code",
      "metadata": {
        "id": "BTNhHcNSjIUL",
        "colab_type": "code",
        "outputId": "6e52ad53-2c6d-46d8-861d-107e1b52ede4",
        "colab": {
          "base_uri": "https://localhost:8080/",
          "height": 343
        }
      },
      "source": [
        "from sklearn.ensemble import RandomForestClassifier\n",
        "from sklearn.model_selection import GridSearchCV\n",
        "\n",
        "rf_params = {'max_depth': [50, 100, 200], 'n_estimators': [50, 100, 250]}\n",
        "rf_model = GridSearchCV(RandomForestClassifier(), rf_params, cv=5, n_jobs=-1, verbose=10)\n",
        "rf_model.fit(X_train, augmented_train_y)\n",
        "rf_model_best = rf_model.best_estimator_\n",
        "print(rf_model_best)"
      ],
      "execution_count": 18,
      "outputs": [
        {
          "output_type": "stream",
          "text": [
            "Fitting 5 folds for each of 9 candidates, totalling 45 fits\n"
          ],
          "name": "stdout"
        },
        {
          "output_type": "stream",
          "text": [
            "[Parallel(n_jobs=-1)]: Using backend LokyBackend with 4 concurrent workers.\n",
            "[Parallel(n_jobs=-1)]: Done   5 tasks      | elapsed:  1.3min\n",
            "/usr/local/lib/python3.6/dist-packages/joblib/externals/loky/process_executor.py:706: UserWarning: A worker stopped while some jobs were given to the executor. This can be caused by a too short worker timeout or by a memory leak.\n",
            "  \"timeout or by a memory leak.\", UserWarning\n",
            "[Parallel(n_jobs=-1)]: Done  10 tasks      | elapsed:  3.2min\n",
            "[Parallel(n_jobs=-1)]: Done  17 tasks      | elapsed:  6.4min\n",
            "[Parallel(n_jobs=-1)]: Done  24 tasks      | elapsed:  9.0min\n",
            "[Parallel(n_jobs=-1)]: Done  33 tasks      | elapsed: 13.4min\n",
            "[Parallel(n_jobs=-1)]: Done  43 out of  45 | elapsed: 18.3min remaining:   51.2s\n",
            "[Parallel(n_jobs=-1)]: Done  45 out of  45 | elapsed: 20.2min finished\n"
          ],
          "name": "stderr"
        },
        {
          "output_type": "stream",
          "text": [
            "RandomForestClassifier(bootstrap=True, class_weight=None, criterion='gini',\n",
            "                       max_depth=100, max_features='auto', max_leaf_nodes=None,\n",
            "                       min_impurity_decrease=0.0, min_impurity_split=None,\n",
            "                       min_samples_leaf=1, min_samples_split=2,\n",
            "                       min_weight_fraction_leaf=0.0, n_estimators=250,\n",
            "                       n_jobs=None, oob_score=False, random_state=None,\n",
            "                       verbose=0, warm_start=False)\n"
          ],
          "name": "stdout"
        }
      ]
    },
    {
      "cell_type": "code",
      "metadata": {
        "id": "GPyVxuLLw965",
        "colab_type": "code",
        "outputId": "a7cc7974-49db-4ed4-d3f3-222527c9db79",
        "colab": {
          "base_uri": "https://localhost:8080/",
          "height": 221
        }
      },
      "source": [
        "y_valid_pred = rf_model.predict_proba(augmented_val_x)"
      ],
      "execution_count": 16,
      "outputs": [
        {
          "output_type": "stream",
          "text": [
            "[Parallel(n_jobs=4)]: Using backend ThreadingBackend with 4 concurrent workers.\n",
            "[Parallel(n_jobs=4)]: Done   5 tasks      | elapsed:    2.9s\n",
            "[Parallel(n_jobs=4)]: Done  10 tasks      | elapsed:    4.9s\n",
            "[Parallel(n_jobs=4)]: Done  17 tasks      | elapsed:    7.6s\n",
            "[Parallel(n_jobs=4)]: Done  24 tasks      | elapsed:   10.8s\n",
            "[Parallel(n_jobs=4)]: Done  33 tasks      | elapsed:   14.2s\n",
            "[Parallel(n_jobs=4)]: Done  42 tasks      | elapsed:   17.8s\n",
            "[Parallel(n_jobs=4)]: Done  53 tasks      | elapsed:   22.7s\n",
            "[Parallel(n_jobs=4)]: Done  64 tasks      | elapsed:   26.9s\n",
            "[Parallel(n_jobs=4)]: Done  77 tasks      | elapsed:   32.2s\n",
            "[Parallel(n_jobs=4)]: Done  90 tasks      | elapsed:   37.3s\n",
            "[Parallel(n_jobs=4)]: Done 100 out of 100 | elapsed:   41.7s finished\n"
          ],
          "name": "stderr"
        }
      ]
    },
    {
      "cell_type": "code",
      "metadata": {
        "id": "S938FB2FOwtU",
        "colab_type": "code",
        "outputId": "47d5453a-a982-4610-e5ce-987737a0ef41",
        "colab": {
          "base_uri": "https://localhost:8080/",
          "height": 34
        }
      },
      "source": [
        "y_val_pred = y_valid_pred[:,0]\n",
        "y_val_pred = y_val_pred.reshape((400, 2000))\n",
        "y_val_pred.shape"
      ],
      "execution_count": 21,
      "outputs": [
        {
          "output_type": "execute_result",
          "data": {
            "text/plain": [
              "(400, 2000)"
            ]
          },
          "metadata": {
            "tags": []
          },
          "execution_count": 21
        }
      ]
    },
    {
      "cell_type": "code",
      "metadata": {
        "id": "-6UsyThg5F8T",
        "colab_type": "code",
        "outputId": "ab2cd8e7-be63-4be9-a93c-44e5f6100464",
        "colab": {
          "base_uri": "https://localhost:8080/",
          "height": 68
        }
      },
      "source": [
        "dev_scores = []\n",
        "dev_pos_list = []\n",
        "counter = 400\n",
        "\n",
        "for idx, item in enumerate(y_val_pred):\n",
        "  sorted_pred = list(np.argsort(item))\n",
        "  true_position = sorted_pred.index(counter)\n",
        "  dev_pos_list.append(true_position)\n",
        "  if true_position < 20:\n",
        "    dev_scores.append(1 / (true_position + 1))\n",
        "  else:\n",
        "    dev_scores.append(0.0)\n",
        "  counter += 1\n",
        "\n",
        "print(\"Development MAP@20:\", np.mean(dev_scores))\n",
        "print(\"Mean index of true image\", np.mean(dev_pos_list))\n",
        "print(\"Median index of true image\", np.median(dev_pos_list))\n"
      ],
      "execution_count": 25,
      "outputs": [
        {
          "output_type": "stream",
          "text": [
            "Development MAP@20: 0.08731495892738153\n",
            "Mean index of true image 84.365\n",
            "Median index of true image 34.5\n"
          ],
          "name": "stdout"
        }
      ]
    }
  ]
}